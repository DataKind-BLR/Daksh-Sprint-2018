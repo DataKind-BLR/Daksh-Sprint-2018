{
 "cells": [
  {
   "cell_type": "markdown",
   "metadata": {},
   "source": [
    "## Description\n",
    "\n",
    "A parser for combining all data files from all folders"
   ]
  },
  {
   "cell_type": "code",
   "execution_count": 1,
   "metadata": {},
   "outputs": [],
   "source": [
    "import pandas as pd\n",
    "import sqlite3\n",
    "import sqlalchemy\n",
    "import os\n",
    "import re"
   ]
  },
  {
   "cell_type": "code",
   "execution_count": 2,
   "metadata": {},
   "outputs": [],
   "source": [
    "folder_dir = 'data/raw/'"
   ]
  },
  {
   "cell_type": "code",
   "execution_count": 6,
   "metadata": {},
   "outputs": [],
   "source": [
    "# %load ../scripts/generate_data_from_district_folder.py\n",
    "# python 3.6\n",
    "import pandas as pd\n",
    "import sqlite3\n",
    "import sqlalchemy\n",
    "import os\n",
    "import re\n",
    "\n",
    "def combine_data(filenames, outfilename):\n",
    "    '''\n",
    "    Combine the data of cases and hearing into a single file for analysis\n",
    "\n",
    "    Args:\n",
    "        filenames(list(str)): The list of filenames to be combined\n",
    "        outfilename(str): The filename where to store the combined data.\n",
    "    '''\n",
    "    skip_header = False\n",
    "    with open(outfilename, 'w') as outputfile:\n",
    "        for fn in filenames:\n",
    "            with open(fn, 'r') as datafile:\n",
    "                if skip_header:\n",
    "                    datafile.readline()\n",
    "                for line in datafile.readlines():\n",
    "                    outputfile.write(line)\n",
    "            skip_header = True\n",
    "    return True\n",
    "\n",
    "def generate_filename(folder_path, ext):\n",
    "    '''\n",
    "    Generate a filename to store the combined data\n",
    "\n",
    "    Args:\n",
    "        folder_path(str): The folder path from where data is being processed\n",
    "        ext(str): This can be cases or hearings based on what we are processing\n",
    "    '''\n",
    "    name_from_folder_path = folder_path.strip('/').split('/')[-1]\n",
    "    name = '_'.join(name_from_folder_path.lower().split())\n",
    "    return '{}_{}.csv'.format(name, ext)\n",
    "\n",
    "def filter_out_columns(data):\n",
    "    '''\n",
    "    Filter out unwanted columns by checking the number of empty entries in the\n",
    "    column\n",
    "    '''\n",
    "    non_udef_columns = [col for col in data.columns if not col.startswith('udef')]\n",
    "    cols_without_nans = []\n",
    "    for col in non_udef_columns:\n",
    "        nan_ratio = pd.isnull(data[col]).sum()/data.shape[0]\n",
    "        if nan_ratio < .5:\n",
    "            cols_without_nans.append(col)\n",
    "    return data[cols_without_nans]\n",
    "\n",
    "def process_and_store_data(filename, cases=True):\n",
    "    '''\n",
    "    Process and store the data in sqlite db for further use.\n",
    "\n",
    "    Args:\n",
    "        filename(str): filename of the combined data generated\n",
    "        cases(boolean): A boolean to represent what we are processing\n",
    "    '''\n",
    "    engine = sqlalchemy.create_engine('sqlite:///daksh_db.sqlite')\n",
    "    data = pd.read_csv(filename)\n",
    "    processed_data = filter_out_columns(data)\n",
    "    table_name = 'cases' if cases else 'hearings'\n",
    "    processed_data.to_sql(name=table_name, if_exists='replace', con=engine, chunksize=10000)\n",
    "    processed_data_filename = filename.split('.')[0] + '_processed.csv'\n",
    "    processed_data.to_csv(processed_data_filename)\n",
    "    return True\n",
    "\n",
    "def main(folder_path):\n",
    "    '''\n",
    "    The main function that takes the folder path of the district and generates\n",
    "    cases and hearing data files and sqlite db version.\n",
    "    '''\n",
    "    cases_files = [os.path.join(folder_path, fn) for fn in os.listdir(folder_path) if 'CaseInfo' in fn]\n",
    "    hearing_files = [os.path.join(folder_path, fn) for fn in os.listdir(folder_path) if 'HistoryTableRows' in fn]\n",
    "    case_file_name = generate_filename(folder_path, 'cases')\n",
    "    combine_data(cases_files, case_file_name)\n",
    "    # hearing data might not be present in all folders.\n",
    "    if len(hearing_files) > 0:\n",
    "        hearing_file_name = generate_filename(folder_path, 'hearings')\n",
    "        combine_data(cases_files, hearing_file_name)\n",
    "    process_and_store_data(case_file_name)\n",
    "    process_and_store_data(hearing_file_name, False)\n",
    "    return True\n"
   ]
  },
  {
   "cell_type": "code",
   "execution_count": 5,
   "metadata": {},
   "outputs": [
    {
     "data": {
      "text/plain": [
       "['PRL. CIVIL JUDGE AND JMFC, KOLLEGAL',\n",
       " 'SENIOR CIVIL JUDGE AND JMFC, KOLLEGAL',\n",
       " 'CIVIL JUDGE AND JMFC, YELANDUR & PRL. CIVIL JUDGE AND JMFC COURT, CHAMARAJANAGAR',\n",
       " 'Chamrajnagar_8_Addl_Kollegal',\n",
       " 'SENIOR CIVIL JUDGE AND CJM COURT, CHAMARAJANAGAR',\n",
       " 'SENIOR CIVIL JUDGE AND JMFC GUNDLUPET']"
      ]
     },
     "execution_count": 5,
     "metadata": {},
     "output_type": "execute_result"
    }
   ],
   "source": [
    "os.listdir(folder_dir)"
   ]
  },
  {
   "cell_type": "code",
   "execution_count": 7,
   "metadata": {},
   "outputs": [],
   "source": [
    " = [fn for fn in os.listdir(folder_dir) if 'SENIOR CIVIL JUDGE AND JMFC ' in fn]\n"
   ]
  },
  {
   "cell_type": "code",
   "execution_count": 8,
   "metadata": {},
   "outputs": [
    {
     "data": {
      "text/plain": [
       "['SENIOR CIVIL JUDGE AND JMFC, KOLLEGAL',\n",
       " 'SENIOR CIVIL JUDGE AND CJM COURT, CHAMARAJANAGAR',\n",
       " 'SENIOR CIVIL JUDGE AND JMFC GUNDLUPET']"
      ]
     },
     "execution_count": 8,
     "metadata": {},
     "output_type": "execute_result"
    }
   ],
   "source": [
    "senior_level"
   ]
  },
  {
   "cell_type": "code",
   "execution_count": null,
   "metadata": {},
   "outputs": [],
   "source": []
  }
 ],
 "metadata": {
  "kernelspec": {
   "display_name": "Python 3",
   "language": "python",
   "name": "python3"
  },
  "language_info": {
   "codemirror_mode": {
    "name": "ipython",
    "version": 3
   },
   "file_extension": ".py",
   "mimetype": "text/x-python",
   "name": "python",
   "nbconvert_exporter": "python",
   "pygments_lexer": "ipython3",
   "version": "3.6.4"
  }
 },
 "nbformat": 4,
 "nbformat_minor": 2
}
