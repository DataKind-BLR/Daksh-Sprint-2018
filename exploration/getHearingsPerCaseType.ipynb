{
 "cells": [
  {
   "cell_type": "code",
   "execution_count": null,
   "metadata": {
    "collapsed": true
   },
   "outputs": [],
   "source": [
    "import pandas as pd\n",
    "import numpy as np"
   ]
  },
  {
   "cell_type": "markdown",
   "metadata": {},
   "source": [
    "We have two types of data files\n",
    "(a) case file: where details pertaining to the case is present \n",
    "(b) hearings file: where details pertaining to each hearing is present. A case can have more than one hearing.\n",
    "\n",
    "What we do next is to read both into data frames\n"
   ]
  },
  {
   "cell_type": "markdown",
   "metadata": {},
   "source": []
  },
  {
   "cell_type": "code",
   "execution_count": null,
   "metadata": {},
   "outputs": [],
   "source": [
    "casesDF = pd.read_csv(\"senior_civil_judge_and_cjm_court,_chamarajanagar_cases_processed.csv\")\n",
    "hearingsDF = pd.read_csv(\"senior_civil_judge_and_cjm_court,_chamarajanagar_hearings_processed.csv\")"
   ]
  },
  {
   "cell_type": "code",
   "execution_count": null,
   "metadata": {},
   "outputs": [],
   "source": [
    "mergedDF = casesDF.merge(hearingsDF, left_on='Id', right_on='CaseInformationId')\n",
    "\n"
   ]
  },
  {
   "cell_type": "code",
   "execution_count": 41,
   "metadata": {},
   "outputs": [],
   "source": [
    "groupDF = mergedDF[['CaseInformationId', 'CaseType', 'Id_y']].groupby(['CaseInformationId', 'CaseType'], as_index=False).agg('count')\n"
   ]
  },
  {
   "cell_type": "markdown",
   "metadata": {},
   "source": [
    "Next we try to get the average hearings for each case type"
   ]
  },
  {
   "cell_type": "code",
   "execution_count": 46,
   "metadata": {},
   "outputs": [
    {
     "data": {
      "text/html": [
       "<div>\n",
       "<table border=\"1\" class=\"dataframe\">\n",
       "  <thead>\n",
       "    <tr style=\"text-align: right;\">\n",
       "      <th></th>\n",
       "      <th>Id_y</th>\n",
       "    </tr>\n",
       "    <tr>\n",
       "      <th>CaseType</th>\n",
       "      <th></th>\n",
       "    </tr>\n",
       "  </thead>\n",
       "  <tbody>\n",
       "    <tr>\n",
       "      <th>C.C. - CRIMINAL CASES</th>\n",
       "      <td>13.609524</td>\n",
       "    </tr>\n",
       "    <tr>\n",
       "      <th>Cr - Crime Case</th>\n",
       "      <td>2.391892</td>\n",
       "    </tr>\n",
       "    <tr>\n",
       "      <th>Crl.Misc. - CRIMINAL MISC.CASES</th>\n",
       "      <td>3.000000</td>\n",
       "    </tr>\n",
       "    <tr>\n",
       "      <th>ECA - Employee Compensation Applicat</th>\n",
       "      <td>26.822581</td>\n",
       "    </tr>\n",
       "    <tr>\n",
       "      <th>ELEC.C - ELECTION PETITIONS</th>\n",
       "      <td>20.058824</td>\n",
       "    </tr>\n",
       "    <tr>\n",
       "      <th>EX - Execution Petition Under Order</th>\n",
       "      <td>16.000000</td>\n",
       "    </tr>\n",
       "    <tr>\n",
       "      <th>Ex.A. - Execution Appeals</th>\n",
       "      <td>24.500000</td>\n",
       "    </tr>\n",
       "    <tr>\n",
       "      <th>FDP - Petitioner For Final Decree pr</th>\n",
       "      <td>24.407725</td>\n",
       "    </tr>\n",
       "    <tr>\n",
       "      <th>G AND WC - Appointment Of Guardian, Other</th>\n",
       "      <td>32.304348</td>\n",
       "    </tr>\n",
       "    <tr>\n",
       "      <th>G and W.C. - Guardian and Wards Cases</th>\n",
       "      <td>18.857143</td>\n",
       "    </tr>\n",
       "    <tr>\n",
       "      <th>J.C. - JUVENILE CASES</th>\n",
       "      <td>18.529412</td>\n",
       "    </tr>\n",
       "    <tr>\n",
       "      <th>L.A.C. - Land Acquisition Cases</th>\n",
       "      <td>10.330025</td>\n",
       "    </tr>\n",
       "    <tr>\n",
       "      <th>L.P.C. - LONG PENDING CASES</th>\n",
       "      <td>6.000000</td>\n",
       "    </tr>\n",
       "    <tr>\n",
       "      <th>M.A. - Miscellanuous Appeals</th>\n",
       "      <td>15.034700</td>\n",
       "    </tr>\n",
       "    <tr>\n",
       "      <th>M.C. - MATRIMONIAL CASES</th>\n",
       "      <td>15.792651</td>\n",
       "    </tr>\n",
       "    <tr>\n",
       "      <th>M.V.C. - Accident Claim Cases u/r M.V.</th>\n",
       "      <td>18.059305</td>\n",
       "    </tr>\n",
       "    <tr>\n",
       "      <th>Misc - Miscellaneous Cases</th>\n",
       "      <td>6.150943</td>\n",
       "    </tr>\n",
       "    <tr>\n",
       "      <th>O.S. - Original Suit</th>\n",
       "      <td>28.229665</td>\n",
       "    </tr>\n",
       "    <tr>\n",
       "      <th>P AND SC - Probate and Succession Cases</th>\n",
       "      <td>21.500000</td>\n",
       "    </tr>\n",
       "    <tr>\n",
       "      <th>P.C.R. - PRIVATE COMPLAINTS</th>\n",
       "      <td>25.000000</td>\n",
       "    </tr>\n",
       "    <tr>\n",
       "      <th>R.A. - Regular Appeals</th>\n",
       "      <td>19.946746</td>\n",
       "    </tr>\n",
       "    <tr>\n",
       "      <th>REV - Revision Petitions</th>\n",
       "      <td>5.352941</td>\n",
       "    </tr>\n",
       "    <tr>\n",
       "      <th>S.C. - Small Cause Suit</th>\n",
       "      <td>13.473684</td>\n",
       "    </tr>\n",
       "  </tbody>\n",
       "</table>\n",
       "</div>"
      ],
      "text/plain": [
       "                                                Id_y\n",
       "CaseType                                            \n",
       "C.C. - CRIMINAL CASES                      13.609524\n",
       "Cr - Crime Case                             2.391892\n",
       "Crl.Misc. - CRIMINAL MISC.CASES             3.000000\n",
       "ECA - Employee Compensation Applicat       26.822581\n",
       "ELEC.C - ELECTION PETITIONS                20.058824\n",
       "EX - Execution Petition Under Order        16.000000\n",
       "Ex.A. - Execution Appeals                  24.500000\n",
       "FDP - Petitioner For Final Decree pr       24.407725\n",
       "G AND WC - Appointment Of Guardian, Other  32.304348\n",
       "G and W.C. - Guardian and Wards Cases      18.857143\n",
       "J.C. - JUVENILE CASES                      18.529412\n",
       "L.A.C. - Land Acquisition Cases            10.330025\n",
       "L.P.C. - LONG PENDING CASES                 6.000000\n",
       "M.A. - Miscellanuous Appeals               15.034700\n",
       "M.C. - MATRIMONIAL CASES                   15.792651\n",
       "M.V.C. - Accident Claim Cases u/r M.V.     18.059305\n",
       "Misc - Miscellaneous Cases                  6.150943\n",
       "O.S. - Original Suit                       28.229665\n",
       "P AND SC - Probate and Succession Cases    21.500000\n",
       "P.C.R. - PRIVATE COMPLAINTS                25.000000\n",
       "R.A. - Regular Appeals                     19.946746\n",
       "REV - Revision Petitions                    5.352941\n",
       "S.C. - Small Cause Suit                    13.473684"
      ]
     },
     "execution_count": 46,
     "metadata": {},
     "output_type": "execute_result"
    }
   ],
   "source": [
    "groupDF.groupby(['CaseType']).mean()"
   ]
  },
  {
   "cell_type": "code",
   "execution_count": null,
   "metadata": {
    "collapsed": true
   },
   "outputs": [],
   "source": []
  }
 ],
 "metadata": {
  "anaconda-cloud": {},
  "kernelspec": {
   "display_name": "Python 3",
   "language": "python",
   "name": "python3"
  },
  "language_info": {
   "codemirror_mode": {
    "name": "ipython",
    "version": 3
   },
   "file_extension": ".py",
   "mimetype": "text/x-python",
   "name": "python",
   "nbconvert_exporter": "python",
   "pygments_lexer": "ipython3",
   "version": "3.6.4"
  }
 },
 "nbformat": 4,
 "nbformat_minor": 1
}
