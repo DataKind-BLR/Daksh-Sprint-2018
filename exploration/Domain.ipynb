{
 "cells": [
  {
   "cell_type": "markdown",
   "metadata": {},
   "source": [
    "# Daksh Domain and Data Introdcution\n",
    "\n",
    "**Social Sector Area**: Judicial\n",
    "\n",
    "\n",
    "A domain here is defined by the related domain knowledge captured in the dataset provided. In the following blocks of information we will be going throw some of the data that is provided and talking about the context that might help understand the data better.\n",
    "\n",
    "**As understanding of the domain is a very subjective matter we encourage/expect you to raise any questions around it, on github/slack or just talk to the facilitators**"
   ]
  },
  {
   "cell_type": "code",
   "execution_count": 23,
   "metadata": {},
   "outputs": [],
   "source": [
    "import pandas as pd\n",
    "import seaborn as sns\n",
    "\n",
    "%matplotlib inline"
   ]
  },
  {
   "cell_type": "markdown",
   "metadata": {},
   "source": [
    "### Data: What we are working with?\n",
    "\n",
    "we are dealing with two tables of data \n",
    "\n",
    "1. Cases, each row in the cases table refers to a unique case and its information.\n",
    "2. Hearing, each row in the hearing table refers to a single hearing held for a given case.\n",
    "\n",
    "The cases and hearings are recorded by people sitting in different courts and uploaded to government websites as pdfs or data entries. So, courts at different level of **judicial hierarchy** namely, senior civil judge, civil judge, CJM etc in different **districts** are capturing the data.\n",
    "\n",
    "To make the data consumable in the amount of time we have and to make it manageable we are dealing with a few districts only.\n",
    "    - Chamrajnagar\n",
    "    - Kollegal\n",
    "    - Gundlupet\n",
    "\n",
    "#### How is the data captured?\n",
    "\n",
    "The data is scraped at regular intervals by Daksh and stored."
   ]
  },
  {
   "cell_type": "code",
   "execution_count": 6,
   "metadata": {},
   "outputs": [
    {
     "name": "stdout",
     "output_type": "stream",
     "text": [
      " case_level.csv\r\n",
      " case_level.xlsx\r\n",
      " hearing_level.xlsx\r\n",
      "'Population Status Final.xlsx'\r\n",
      " raw\r\n",
      " senior_civil_judge_and_cjm_court,_chamarajanagar_cases.csv\r\n",
      " senior_civil_judge_and_cjm_court,_chamarajanagar_cases_processed.csv\r\n",
      " senior_civil_judge_and_cjm_court,_chamarajanagar_hearings.csv\r\n",
      " senior_civil_judge_and_cjm_court,_chamarajanagar_hearings_processed.csv\r\n"
     ]
    }
   ],
   "source": [
    "!ls data/"
   ]
  },
  {
   "cell_type": "markdown",
   "metadata": {},
   "source": [
    "**Note**:For ease of consumption we will be talking about Chamrajnagar data, that is already processed such that all columns that are mostly empty are removed."
   ]
  },
  {
   "cell_type": "code",
   "execution_count": 8,
   "metadata": {},
   "outputs": [],
   "source": [
    "cases = pd.read_csv('data/senior_civil_judge_and_cjm_court,_chamarajanagar_cases_processed.csv')\n",
    "hearings = pd.read_csv('data/senior_civil_judge_and_cjm_court,_chamarajanagar_hearings_processed.csv')"
   ]
  },
  {
   "cell_type": "code",
   "execution_count": 9,
   "metadata": {},
   "outputs": [
    {
     "data": {
      "text/plain": [
       "(4907, 34)"
      ]
     },
     "execution_count": 9,
     "metadata": {},
     "output_type": "execute_result"
    }
   ],
   "source": [
    "cases.shape"
   ]
  },
  {
   "cell_type": "markdown",
   "metadata": {},
   "source": [
    "There are 34 columns that tells us some information in the cases table and for Chamarajanagar we have 4907 cases in our dataset from 2 days worth of scraping data"
   ]
  },
  {
   "cell_type": "code",
   "execution_count": 10,
   "metadata": {},
   "outputs": [
    {
     "data": {
      "text/plain": [
       "Index(['Unnamed: 0', 'Id', 'CombinedCaseNumber', 'CaseNumber', 'CaseType',\n",
       "       'Year', 'CourtName', 'CourtHallNumber', 'DateFiled', 'Petitioner',\n",
       "       'PetitionerAdvocate', 'Respondent', 'CurrentStatus', 'District',\n",
       "       'BeforeHonarbleJudges', 'LastSyncTime', 'RespondentType',\n",
       "       'PetitionerType', 'FilingNumber', 'cnr_number', 'RegistrationDate',\n",
       "       'RegistrationNo', 'DecisionDate', 'NatureOfDisposal', 'UnderActs',\n",
       "       'UnderSections', 'CourtState', 'CourtType', 'CourtDistrict',\n",
       "       'CourtComplex', 'FirstHearingDate', 'ParsingYear', 'Njdg_Judge_Name',\n",
       "       'Full_Identifier'],\n",
       "      dtype='object')"
      ]
     },
     "execution_count": 10,
     "metadata": {},
     "output_type": "execute_result"
    }
   ],
   "source": [
    "cases.columns"
   ]
  },
  {
   "cell_type": "code",
   "execution_count": 14,
   "metadata": {},
   "outputs": [],
   "source": [
    "# we can get rid off 'Unnamed: 0' column\n",
    "cases.drop(['Unnamed: 0'], axis=1, inplace=True)"
   ]
  },
  {
   "cell_type": "markdown",
   "metadata": {},
   "source": [
    "### Columns that don't add Contextual Information\n",
    "\n",
    "1. Id \n",
    "2. CombinedCaseNumber\n",
    "3. CaseNumber\n",
    "4. Year\n",
    "5. LastSyncTime\n",
    "6. Full identifier\n"
   ]
  },
  {
   "cell_type": "code",
   "execution_count": 18,
   "metadata": {},
   "outputs": [
    {
     "data": {
      "text/html": [
       "<div>\n",
       "<style scoped>\n",
       "    .dataframe tbody tr th:only-of-type {\n",
       "        vertical-align: middle;\n",
       "    }\n",
       "\n",
       "    .dataframe tbody tr th {\n",
       "        vertical-align: top;\n",
       "    }\n",
       "\n",
       "    .dataframe thead th {\n",
       "        text-align: right;\n",
       "    }\n",
       "</style>\n",
       "<table border=\"1\" class=\"dataframe\">\n",
       "  <thead>\n",
       "    <tr style=\"text-align: right;\">\n",
       "      <th></th>\n",
       "      <th>Id</th>\n",
       "      <th>CombinedCaseNumber</th>\n",
       "      <th>CaseNumber</th>\n",
       "      <th>Year</th>\n",
       "      <th>LastSyncTime</th>\n",
       "      <th>Full_Identifier</th>\n",
       "    </tr>\n",
       "  </thead>\n",
       "  <tbody>\n",
       "    <tr>\n",
       "      <th>0</th>\n",
       "      <td>9c83a4f3-2f80-4ded-82fe-d042c42513e6</td>\n",
       "      <td>EX - Execution Petition Under Order-0169-2002</td>\n",
       "      <td>169</td>\n",
       "      <td>2002</td>\n",
       "      <td>2018-07-01 00:00:01</td>\n",
       "      <td>Karnataka--Chamrajanagar--SENIOR CIVIL JUDGE A...</td>\n",
       "    </tr>\n",
       "    <tr>\n",
       "      <th>1</th>\n",
       "      <td>3be745f5-8d3e-4d12-a46c-9bb46b9f0745</td>\n",
       "      <td>EX - Execution Petition Under Order-0075-2002</td>\n",
       "      <td>75</td>\n",
       "      <td>2002</td>\n",
       "      <td>2018-07-01 00:00:03</td>\n",
       "      <td>Karnataka--Chamrajanagar--SENIOR CIVIL JUDGE A...</td>\n",
       "    </tr>\n",
       "    <tr>\n",
       "      <th>2</th>\n",
       "      <td>3589a09b-a233-4981-96c1-c4d4da678cfe</td>\n",
       "      <td>EX - Execution Petition Under Order-0368-2002</td>\n",
       "      <td>368</td>\n",
       "      <td>2002</td>\n",
       "      <td>2018-07-01 00:00:06</td>\n",
       "      <td>Karnataka--Chamrajanagar--SENIOR CIVIL JUDGE A...</td>\n",
       "    </tr>\n",
       "    <tr>\n",
       "      <th>3</th>\n",
       "      <td>dc958992-1312-4ce8-ba13-491245e6ecf1</td>\n",
       "      <td>EX - Execution Petition Under Order-0044-2002</td>\n",
       "      <td>44</td>\n",
       "      <td>2002</td>\n",
       "      <td>2018-07-01 00:00:07</td>\n",
       "      <td>Karnataka--Chamrajanagar--SENIOR CIVIL JUDGE A...</td>\n",
       "    </tr>\n",
       "    <tr>\n",
       "      <th>4</th>\n",
       "      <td>9a0ef0ef-50d4-4585-b0e1-fe71bb317495</td>\n",
       "      <td>EX - Execution Petition Under Order-0367-2002</td>\n",
       "      <td>367</td>\n",
       "      <td>2002</td>\n",
       "      <td>2018-07-01 00:00:08</td>\n",
       "      <td>Karnataka--Chamrajanagar--SENIOR CIVIL JUDGE A...</td>\n",
       "    </tr>\n",
       "  </tbody>\n",
       "</table>\n",
       "</div>"
      ],
      "text/plain": [
       "                                     Id  \\\n",
       "0  9c83a4f3-2f80-4ded-82fe-d042c42513e6   \n",
       "1  3be745f5-8d3e-4d12-a46c-9bb46b9f0745   \n",
       "2  3589a09b-a233-4981-96c1-c4d4da678cfe   \n",
       "3  dc958992-1312-4ce8-ba13-491245e6ecf1   \n",
       "4  9a0ef0ef-50d4-4585-b0e1-fe71bb317495   \n",
       "\n",
       "                              CombinedCaseNumber  CaseNumber  Year  \\\n",
       "0  EX - Execution Petition Under Order-0169-2002         169  2002   \n",
       "1  EX - Execution Petition Under Order-0075-2002          75  2002   \n",
       "2  EX - Execution Petition Under Order-0368-2002         368  2002   \n",
       "3  EX - Execution Petition Under Order-0044-2002          44  2002   \n",
       "4  EX - Execution Petition Under Order-0367-2002         367  2002   \n",
       "\n",
       "          LastSyncTime                                    Full_Identifier  \n",
       "0  2018-07-01 00:00:01  Karnataka--Chamrajanagar--SENIOR CIVIL JUDGE A...  \n",
       "1  2018-07-01 00:00:03  Karnataka--Chamrajanagar--SENIOR CIVIL JUDGE A...  \n",
       "2  2018-07-01 00:00:06  Karnataka--Chamrajanagar--SENIOR CIVIL JUDGE A...  \n",
       "3  2018-07-01 00:00:07  Karnataka--Chamrajanagar--SENIOR CIVIL JUDGE A...  \n",
       "4  2018-07-01 00:00:08  Karnataka--Chamrajanagar--SENIOR CIVIL JUDGE A...  "
      ]
     },
     "execution_count": 18,
     "metadata": {},
     "output_type": "execute_result"
    }
   ],
   "source": [
    "non_contextual_cols = ['Id','CombinedCaseNumber', 'CaseNumber', 'Year', 'LastSyncTime', 'Full_Identifier']\n",
    "cases[non_contextual_cols].head()"
   ]
  },
  {
   "cell_type": "code",
   "execution_count": 27,
   "metadata": {},
   "outputs": [
    {
     "data": {
      "text/plain": [
       "<matplotlib.axes._subplots.AxesSubplot at 0x7fe7fbe50dd8>"
      ]
     },
     "execution_count": 27,
     "metadata": {},
     "output_type": "execute_result"
    },
    {
     "data": {
      "image/png": "[encoded data removed]",
      "text/plain": [
       "<matplotlib.figure.Figure at 0x7fe7fbe94278>"
      ]
     },
     "metadata": {},
     "output_type": "display_data"
    }
   ],
   "source": [
    "cases.Year.value_counts().sort_values().plot('barh', title='Number of cases by year')"
   ]
  },
  {
   "cell_type": "markdown",
   "metadata": {},
   "source": [
    "### Columns that add Contextual Information\n",
    "\n",
    "1. CaseType, Case type describes some of the meta information on what kind of case it is. Some case type definitions given here http://www.lawyersclubindia.com/forum/Court-Abbreviations-For-Law-Students-33260.asp\n",
    "2. CourtHallNumber, Halls are generally managed by a Judge and can be a representation for a judge\n",
    "3. DateFiled, tells us when the case was filed.\n",
    "4. Petitioner, PetitionerAdvocate & PetitionerType are descriptors around who the petitioner is and who is fighting their case\n",
    "5. Respondent, RespondentType gives information on whom the case is filed.\n",
    "6. BeforeHonarbleJudges contains information on the judges position who are hearing the case\n"
   ]
  },
  {
   "cell_type": "code",
   "execution_count": 29,
   "metadata": {},
   "outputs": [
    {
     "data": {
      "text/plain": [
       "<matplotlib.axes._subplots.AxesSubplot at 0x7fe7fbd816a0>"
      ]
     },
     "execution_count": 29,
     "metadata": {},
     "output_type": "execute_result"
    },
    {
     "data": {
      "image/png": "[encoded data removed]",
      "text/plain": [
       "<matplotlib.figure.Figure at 0x7fe7fbd639b0>"
      ]
     },
     "metadata": {},
     "output_type": "display_data"
    }
   ],
   "source": [
    "cases.CaseType.value_counts().plot('barh', title='Number of cases by CaseType')"
   ]
  },
  {
   "cell_type": "markdown",
   "metadata": {},
   "source": [
    "**2 CourtHallNumber, Halls are generally managed by a Judge and can be a representation for a judge**"
   ]
  },
  {
   "cell_type": "code",
   "execution_count": 32,
   "metadata": {},
   "outputs": [
    {
     "data": {
      "text/plain": [
       "<matplotlib.axes._subplots.AxesSubplot at 0x7fe7fbc362e8>"
      ]
     },
     "execution_count": 32,
     "metadata": {},
     "output_type": "execute_result"
    },
    {
     "data": {
      "image/png": "[encoded data removed]",
      "text/plain": [
       "<matplotlib.figure.Figure at 0x7fe7fbc02b70>"
      ]
     },
     "metadata": {},
     "output_type": "display_data"
    }
   ],
   "source": [
    "cases.CourtHallNumber.value_counts().plot('barh', title='Number of cases by CourtHallNumber')"
   ]
  },
  {
   "cell_type": "code",
   "execution_count": 35,
   "metadata": {},
   "outputs": [
    {
     "data": {
      "text/plain": [
       "<matplotlib.axes._subplots.AxesSubplot at 0x7fe7fbaa56a0>"
      ]
     },
     "execution_count": 35,
     "metadata": {},
     "output_type": "execute_result"
    },
    {
     "data": {
      "image/png": "[encoded data removed]",
      "text/plain": [
       "<matplotlib.figure.Figure at 0x7fe7fbaa5da0>"
      ]
     },
     "metadata": {},
     "output_type": "display_data"
    }
   ],
   "source": [
    "cases.DateFiled.apply(lambda x: str(x).split('-')[0]).value_counts().plot('barh', title='Number of cases by Filling date')"
   ]
  },
  {
   "cell_type": "code",
   "execution_count": 36,
   "metadata": {},
   "outputs": [
    {
     "data": {
      "text/html": [
       "<div>\n",
       "<style scoped>\n",
       "    .dataframe tbody tr th:only-of-type {\n",
       "        vertical-align: middle;\n",
       "    }\n",
       "\n",
       "    .dataframe tbody tr th {\n",
       "        vertical-align: top;\n",
       "    }\n",
       "\n",
       "    .dataframe thead th {\n",
       "        text-align: right;\n",
       "    }\n",
       "</style>\n",
       "<table border=\"1\" class=\"dataframe\">\n",
       "  <thead>\n",
       "    <tr style=\"text-align: right;\">\n",
       "      <th></th>\n",
       "      <th>Petitioner</th>\n",
       "      <th>PetitionerAdvocate</th>\n",
       "      <th>PetitionerType</th>\n",
       "    </tr>\n",
       "  </thead>\n",
       "  <tbody>\n",
       "    <tr>\n",
       "      <th>0</th>\n",
       "      <td>1) PUTTAMALLAMMA ALAMMA DEAD BY LR</td>\n",
       "      <td>N NANJE GOWDA</td>\n",
       "      <td>PETITIONER</td>\n",
       "    </tr>\n",
       "    <tr>\n",
       "      <th>1</th>\n",
       "      <td>1) DEAD BY LRS 1LAKSHMINARASIMHA2S RAVISHANKAR...</td>\n",
       "      <td>K. BALASUBRAMANYAM</td>\n",
       "      <td>PETITIONER</td>\n",
       "    </tr>\n",
       "    <tr>\n",
       "      <th>2</th>\n",
       "      <td>1) MAHADEVAPPA</td>\n",
       "      <td>S. BASAVANNA</td>\n",
       "      <td>PETITIONER</td>\n",
       "    </tr>\n",
       "    <tr>\n",
       "      <th>3</th>\n",
       "      <td>1) DEAD BY LRS AGIDDAMMABMANGALAMMACMAHADEVA G...</td>\n",
       "      <td>N NANJE GOWDA</td>\n",
       "      <td>PETITIONER</td>\n",
       "    </tr>\n",
       "    <tr>\n",
       "      <th>4</th>\n",
       "      <td>1) SIDDA MALLAPPA</td>\n",
       "      <td>S. BASAVANNA2)</td>\n",
       "      <td>PETITIONER</td>\n",
       "    </tr>\n",
       "  </tbody>\n",
       "</table>\n",
       "</div>"
      ],
      "text/plain": [
       "                                          Petitioner  PetitionerAdvocate  \\\n",
       "0                 1) PUTTAMALLAMMA ALAMMA DEAD BY LR       N NANJE GOWDA   \n",
       "1  1) DEAD BY LRS 1LAKSHMINARASIMHA2S RAVISHANKAR...  K. BALASUBRAMANYAM   \n",
       "2                                     1) MAHADEVAPPA        S. BASAVANNA   \n",
       "3  1) DEAD BY LRS AGIDDAMMABMANGALAMMACMAHADEVA G...       N NANJE GOWDA   \n",
       "4                                  1) SIDDA MALLAPPA      S. BASAVANNA2)   \n",
       "\n",
       "  PetitionerType  \n",
       "0     PETITIONER  \n",
       "1     PETITIONER  \n",
       "2     PETITIONER  \n",
       "3     PETITIONER  \n",
       "4     PETITIONER  "
      ]
     },
     "execution_count": 36,
     "metadata": {},
     "output_type": "execute_result"
    }
   ],
   "source": [
    "cases[['Petitioner', 'PetitionerAdvocate', 'PetitionerType']].head()"
   ]
  },
  {
   "cell_type": "code",
   "execution_count": 38,
   "metadata": {},
   "outputs": [
    {
     "data": {
      "text/html": [
       "<div>\n",
       "<style scoped>\n",
       "    .dataframe tbody tr th:only-of-type {\n",
       "        vertical-align: middle;\n",
       "    }\n",
       "\n",
       "    .dataframe tbody tr th {\n",
       "        vertical-align: top;\n",
       "    }\n",
       "\n",
       "    .dataframe thead th {\n",
       "        text-align: right;\n",
       "    }\n",
       "</style>\n",
       "<table border=\"1\" class=\"dataframe\">\n",
       "  <thead>\n",
       "    <tr style=\"text-align: right;\">\n",
       "      <th></th>\n",
       "      <th>Respondent</th>\n",
       "      <th>RespondentType</th>\n",
       "    </tr>\n",
       "  </thead>\n",
       "  <tbody>\n",
       "    <tr>\n",
       "      <th>0</th>\n",
       "      <td>1) THE SPL LAO</td>\n",
       "      <td>RESPONDENT</td>\n",
       "    </tr>\n",
       "    <tr>\n",
       "      <th>1</th>\n",
       "      <td>1) G MAHADEVA PRASAD</td>\n",
       "      <td>RESPONDENT</td>\n",
       "    </tr>\n",
       "    <tr>\n",
       "      <th>2</th>\n",
       "      <td>1) THE SPECIAL LAND ACQUISITION OFFICER</td>\n",
       "      <td>RESPONDENT</td>\n",
       "    </tr>\n",
       "    <tr>\n",
       "      <th>3</th>\n",
       "      <td>1) THE SPECIAL LAND ACQUISITION OFFICER</td>\n",
       "      <td>RESPONDENT</td>\n",
       "    </tr>\n",
       "    <tr>\n",
       "      <th>4</th>\n",
       "      <td>1) THE SPECIAL LAND ACQUISITION OFFICER</td>\n",
       "      <td>RESPONDENT</td>\n",
       "    </tr>\n",
       "  </tbody>\n",
       "</table>\n",
       "</div>"
      ],
      "text/plain": [
       "                                Respondent RespondentType\n",
       "0                           1) THE SPL LAO     RESPONDENT\n",
       "1                     1) G MAHADEVA PRASAD     RESPONDENT\n",
       "2  1) THE SPECIAL LAND ACQUISITION OFFICER     RESPONDENT\n",
       "3  1) THE SPECIAL LAND ACQUISITION OFFICER     RESPONDENT\n",
       "4  1) THE SPECIAL LAND ACQUISITION OFFICER     RESPONDENT"
      ]
     },
     "execution_count": 38,
     "metadata": {},
     "output_type": "execute_result"
    }
   ],
   "source": [
    "cases[['Respondent', 'RespondentType']].head()"
   ]
  },
  {
   "cell_type": "code",
   "execution_count": 39,
   "metadata": {},
   "outputs": [
    {
     "data": {
      "text/html": [
       "<div>\n",
       "<style scoped>\n",
       "    .dataframe tbody tr th:only-of-type {\n",
       "        vertical-align: middle;\n",
       "    }\n",
       "\n",
       "    .dataframe tbody tr th {\n",
       "        vertical-align: top;\n",
       "    }\n",
       "\n",
       "    .dataframe thead th {\n",
       "        text-align: right;\n",
       "    }\n",
       "</style>\n",
       "<table border=\"1\" class=\"dataframe\">\n",
       "  <thead>\n",
       "    <tr style=\"text-align: right;\">\n",
       "      <th></th>\n",
       "      <th>BeforeHonarbleJudges</th>\n",
       "    </tr>\n",
       "  </thead>\n",
       "  <tbody>\n",
       "    <tr>\n",
       "      <th>0</th>\n",
       "      <td>NaN</td>\n",
       "    </tr>\n",
       "    <tr>\n",
       "      <th>1</th>\n",
       "      <td>NaN</td>\n",
       "    </tr>\n",
       "    <tr>\n",
       "      <th>2</th>\n",
       "      <td>NaN</td>\n",
       "    </tr>\n",
       "    <tr>\n",
       "      <th>3</th>\n",
       "      <td>NaN</td>\n",
       "    </tr>\n",
       "    <tr>\n",
       "      <th>4</th>\n",
       "      <td>SENIOR CIVIL JUDGE AND CJM</td>\n",
       "    </tr>\n",
       "  </tbody>\n",
       "</table>\n",
       "</div>"
      ],
      "text/plain": [
       "         BeforeHonarbleJudges\n",
       "0                         NaN\n",
       "1                         NaN\n",
       "2                         NaN\n",
       "3                         NaN\n",
       "4  SENIOR CIVIL JUDGE AND CJM"
      ]
     },
     "execution_count": 39,
     "metadata": {},
     "output_type": "execute_result"
    }
   ],
   "source": [
    "cases[['BeforeHonarbleJudges']].head()"
   ]
  },
  {
   "cell_type": "code",
   "execution_count": null,
   "metadata": {},
   "outputs": [],
   "source": []
  }
 ],
 "metadata": {
  "kernelspec": {
   "display_name": "Python 3",
   "language": "python",
   "name": "python3"
  },
  "language_info": {
   "codemirror_mode": {
    "name": "ipython",
    "version": 3
   },
   "file_extension": ".py",
   "mimetype": "text/x-python",
   "name": "python",
   "nbconvert_exporter": "python",
   "pygments_lexer": "ipython3",
   "version": "3.6.4"
  }
 },
 "nbformat": 4,
 "nbformat_minor": 2
}
